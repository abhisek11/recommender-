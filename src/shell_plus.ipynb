{
 "cells": [
  {
   "cell_type": "code",
   "execution_count": 1,
   "id": "73671bd8",
   "metadata": {},
   "outputs": [],
   "source": [
    "import os, sys\n",
    "import django\n",
    "PROJECTPATH = '/Users/abhiseksingh/Desktop/fxai_projects/recommender/src'\n",
    "sys.path.insert(0, PROJECTPATH)\n",
    "os.environ.setdefault(\"DJANGO_SETTINGS_MODULE\", \"my.django.settings.module\")\n",
    "os.environ[\"DJANGO_ALLOW_ASYNC_UNSAFE\"] = \"true\"  # https://docs.djangoproject.com/en/4.1/topics/async/#async-safety\n",
    "os.chdir(PROJECTPATH)\n",
    "django.setup()"
   ]
  },
  {
   "cell_type": "code",
   "execution_count": null,
   "id": "f85676db",
   "metadata": {},
   "outputs": [],
   "source": []
  },
  {
   "cell_type": "code",
   "execution_count": null,
   "id": "4b1e43e5",
   "metadata": {},
   "outputs": [],
   "source": []
  }
 ],
 "metadata": {
  "kernelspec": {
   "display_name": "Django Shell-Plus",
   "language": "python",
   "name": "django_extensions"
  },
  "language_info": {
   "codemirror_mode": {
    "name": "ipython",
    "version": 3
   },
   "file_extension": ".py",
   "mimetype": "text/x-python",
   "name": "python",
   "nbconvert_exporter": "python",
   "pygments_lexer": "ipython3",
   "version": "3.7.9"
  }
 },
 "nbformat": 4,
 "nbformat_minor": 5
}
